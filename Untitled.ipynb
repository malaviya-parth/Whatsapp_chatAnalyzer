{
 "cells": [
  {
   "cell_type": "code",
   "execution_count": 2,
   "id": "c90148c0",
   "metadata": {},
   "outputs": [],
   "source": [
    "import re # Regular Expression Library\n",
    "import pandas as pd"
   ]
  },
  {
   "cell_type": "code",
   "execution_count": 3,
   "id": "23e8b821",
   "metadata": {},
   "outputs": [],
   "source": [
    "f = open('WhatsApp Chat with Vivek Baldha (LDIT).txt', 'r', encoding='utf-8')"
   ]
  },
  {
   "cell_type": "code",
   "execution_count": 4,
   "id": "a0a8d95f",
   "metadata": {},
   "outputs": [],
   "source": [
    "data = f.read()"
   ]
  },
  {
   "cell_type": "code",
   "execution_count": 5,
   "id": "b988ec3e",
   "metadata": {},
   "outputs": [
    {
     "name": "stdout",
     "output_type": "stream",
     "text": [
      "16/05/23, 11:54 am - Vivek Baldha (LDIT): Search algorithm successful\n",
      "16/05/23, 5:35 pm - Vivek Baldha (LDIT): <Media omitted>\n",
      "WordCount.java\n",
      "16/05/23, 6:07 pm - Vivek Baldha (LDIT): <Media omitted>\n",
      "MatrixMultiplyMapper.java\n",
      "16/05/23, 6:07 pm - Vivek Baldha (LDIT): <Media omitted>\n",
      "in1.txt\n",
      "16/05/23, 6:07 pm - Vivek Baldha (LDIT): <Media omitted>\n",
      "in2.txt\n",
      "16/05/23, 6:09 pm - Vivek Baldha (LDIT): <Media omitted>\n",
      "MatrixMultiplyReducer.java\n",
      "16/05/23, 6:09 pm - Vivek Baldha (LDIT): <Media omitted>\n",
      "MatrixMultiply.java\n",
      "16/05/23, 6:10 pm - Vivek Baldha (LDIT): javac -classpath $(hadoop classpath) MatrixMultiplyMapper.java MatrixMultiplyReducer.java MatrixMultiply.java\n",
      "\n",
      "jar cf MatrixMultiply.jar MatrixMultiply*.class\n",
      "\n",
      "hadoop jar <jar-file> <main-class> <input-path> <output-path>\n",
      "16/05/23, 6:17 pm - Vivek Baldha (LDIT): <Media omitted>\n",
      "in.txt\n",
      "16/05/23, 6:17 pm - Vivek Baldha (LDIT): <Media omitted>\n",
      "Sort.java\n",
      "16/05/23, 6:48 pm - Vivek Baldha (LDIT): <Media omitted>\n",
      "indexing.zip\n",
      "17/05/23, 7:50 am - Parth Malaviya: Pig kairu\n",
      "17/05/23, 7:51 am - Vivek Baldha (LDIT): Laptop de taru\n",
      "17/05/23, 1:17 pm - Vivek Baldha (LDIT): ashajshahs\n",
      "17/05/23, 1:18 pm - Parth Malaviya: https://www.tutorialspoint.com/apache_pig/pig_latin_basics.htm\n",
      "17/05/23, 10:51 pm - Parth Malaviya: No thyu kai, mane to format change karvano option j nai malto\n",
      "17/05/23, 10:51 pm - Vivek Baldha (LDIT): M only WhatsApp ma no thay\n",
      "17/05/23, 10:51 pm - Vivek Baldha (LDIT): 😂😂\n",
      "17/05/23, 10:52 pm - Parth Malaviya: to rehne de bhai mission cancel\n",
      "17/05/23, 10:52 pm - Vivek Baldha (LDIT): Ruk jaa bhai\n",
      "17/05/23, 10:52 pm - Vivek Baldha (LDIT): I will manage\n",
      "\n"
     ]
    }
   ],
   "source": [
    "print(data)"
   ]
  },
  {
   "cell_type": "code",
   "execution_count": 6,
   "id": "7d13d432",
   "metadata": {},
   "outputs": [],
   "source": [
    "pattern = r'\\d{1,2}/\\d{1,2}/\\d{2,4},\\s\\d{1,2}:\\d{2}\\s[apm]{2}\\s-\\s'"
   ]
  },
  {
   "cell_type": "code",
   "execution_count": 7,
   "id": "f4336ef8",
   "metadata": {},
   "outputs": [
    {
     "data": {
      "text/plain": [
       "['Vivek Baldha (LDIT): Search algorithm successful\\n',\n",
       " 'Vivek Baldha (LDIT): <Media omitted>\\nWordCount.java\\n',\n",
       " 'Vivek Baldha (LDIT): <Media omitted>\\nMatrixMultiplyMapper.java\\n',\n",
       " 'Vivek Baldha (LDIT): <Media omitted>\\nin1.txt\\n',\n",
       " 'Vivek Baldha (LDIT): <Media omitted>\\nin2.txt\\n',\n",
       " 'Vivek Baldha (LDIT): <Media omitted>\\nMatrixMultiplyReducer.java\\n',\n",
       " 'Vivek Baldha (LDIT): <Media omitted>\\nMatrixMultiply.java\\n',\n",
       " 'Vivek Baldha (LDIT): javac -classpath $(hadoop classpath) MatrixMultiplyMapper.java MatrixMultiplyReducer.java MatrixMultiply.java\\n\\njar cf MatrixMultiply.jar MatrixMultiply*.class\\n\\nhadoop jar <jar-file> <main-class> <input-path> <output-path>\\n',\n",
       " 'Vivek Baldha (LDIT): <Media omitted>\\nin.txt\\n',\n",
       " 'Vivek Baldha (LDIT): <Media omitted>\\nSort.java\\n',\n",
       " 'Vivek Baldha (LDIT): <Media omitted>\\nindexing.zip\\n',\n",
       " 'Parth Malaviya: Pig kairu\\n',\n",
       " 'Vivek Baldha (LDIT): Laptop de taru\\n',\n",
       " 'Vivek Baldha (LDIT): ashajshahs\\n',\n",
       " 'Parth Malaviya: https://www.tutorialspoint.com/apache_pig/pig_latin_basics.htm\\n',\n",
       " 'Parth Malaviya: No thyu kai, mane to format change karvano option j nai malto\\n',\n",
       " 'Vivek Baldha (LDIT): M only WhatsApp ma no thay\\n',\n",
       " 'Vivek Baldha (LDIT): 😂😂\\n',\n",
       " 'Parth Malaviya: to rehne de bhai mission cancel\\n',\n",
       " 'Vivek Baldha (LDIT): Ruk jaa bhai\\n',\n",
       " 'Vivek Baldha (LDIT): I will manage\\n']"
      ]
     },
     "execution_count": 7,
     "metadata": {},
     "output_type": "execute_result"
    }
   ],
   "source": [
    "messages = re.split(pattern, data) [1:] #.split returns an array with first argument being the term which split the string and second being the data to be splitted\n",
    "messages"
   ]
  },
  {
   "cell_type": "code",
   "execution_count": 8,
   "id": "19e768aa",
   "metadata": {},
   "outputs": [
    {
     "data": {
      "text/plain": [
       "['16/05/23, 11:54 am - ',\n",
       " '16/05/23, 5:35 pm - ',\n",
       " '16/05/23, 6:07 pm - ',\n",
       " '16/05/23, 6:07 pm - ',\n",
       " '16/05/23, 6:07 pm - ',\n",
       " '16/05/23, 6:09 pm - ',\n",
       " '16/05/23, 6:09 pm - ',\n",
       " '16/05/23, 6:10 pm - ',\n",
       " '16/05/23, 6:17 pm - ',\n",
       " '16/05/23, 6:17 pm - ',\n",
       " '16/05/23, 6:48 pm - ',\n",
       " '17/05/23, 7:50 am - ',\n",
       " '17/05/23, 7:51 am - ',\n",
       " '17/05/23, 1:17 pm - ',\n",
       " '17/05/23, 1:18 pm - ',\n",
       " '17/05/23, 10:51 pm - ',\n",
       " '17/05/23, 10:51 pm - ',\n",
       " '17/05/23, 10:51 pm - ',\n",
       " '17/05/23, 10:52 pm - ',\n",
       " '17/05/23, 10:52 pm - ',\n",
       " '17/05/23, 10:52 pm - ']"
      ]
     },
     "execution_count": 8,
     "metadata": {},
     "output_type": "execute_result"
    }
   ],
   "source": [
    "dates = re.findall(pattern, data)\n",
    "dates = [date.replace(\"\\u202f\", \" \") for date in dates]\n",
    "dates"
   ]
  },
  {
   "cell_type": "code",
   "execution_count": 9,
   "id": "5b12d8a0",
   "metadata": {},
   "outputs": [
    {
     "data": {
      "text/html": [
       "<div>\n",
       "<style scoped>\n",
       "    .dataframe tbody tr th:only-of-type {\n",
       "        vertical-align: middle;\n",
       "    }\n",
       "\n",
       "    .dataframe tbody tr th {\n",
       "        vertical-align: top;\n",
       "    }\n",
       "\n",
       "    .dataframe thead th {\n",
       "        text-align: right;\n",
       "    }\n",
       "</style>\n",
       "<table border=\"1\" class=\"dataframe\">\n",
       "  <thead>\n",
       "    <tr style=\"text-align: right;\">\n",
       "      <th></th>\n",
       "      <th>user-message</th>\n",
       "      <th>message-date</th>\n",
       "    </tr>\n",
       "  </thead>\n",
       "  <tbody>\n",
       "    <tr>\n",
       "      <th>0</th>\n",
       "      <td>Vivek Baldha (LDIT): Search algorithm successf...</td>\n",
       "      <td>16/05/23, 11:54 am -</td>\n",
       "    </tr>\n",
       "    <tr>\n",
       "      <th>1</th>\n",
       "      <td>Vivek Baldha (LDIT): &lt;Media omitted&gt;\\nWordCoun...</td>\n",
       "      <td>16/05/23, 5:35 pm -</td>\n",
       "    </tr>\n",
       "    <tr>\n",
       "      <th>2</th>\n",
       "      <td>Vivek Baldha (LDIT): &lt;Media omitted&gt;\\nMatrixMu...</td>\n",
       "      <td>16/05/23, 6:07 pm -</td>\n",
       "    </tr>\n",
       "    <tr>\n",
       "      <th>3</th>\n",
       "      <td>Vivek Baldha (LDIT): &lt;Media omitted&gt;\\nin1.txt\\n</td>\n",
       "      <td>16/05/23, 6:07 pm -</td>\n",
       "    </tr>\n",
       "    <tr>\n",
       "      <th>4</th>\n",
       "      <td>Vivek Baldha (LDIT): &lt;Media omitted&gt;\\nin2.txt\\n</td>\n",
       "      <td>16/05/23, 6:07 pm -</td>\n",
       "    </tr>\n",
       "  </tbody>\n",
       "</table>\n",
       "</div>"
      ],
      "text/plain": [
       "                                        user-message           message-date\n",
       "0  Vivek Baldha (LDIT): Search algorithm successf...  16/05/23, 11:54 am - \n",
       "1  Vivek Baldha (LDIT): <Media omitted>\\nWordCoun...   16/05/23, 5:35 pm - \n",
       "2  Vivek Baldha (LDIT): <Media omitted>\\nMatrixMu...   16/05/23, 6:07 pm - \n",
       "3    Vivek Baldha (LDIT): <Media omitted>\\nin1.txt\\n   16/05/23, 6:07 pm - \n",
       "4    Vivek Baldha (LDIT): <Media omitted>\\nin2.txt\\n   16/05/23, 6:07 pm - "
      ]
     },
     "execution_count": 9,
     "metadata": {},
     "output_type": "execute_result"
    }
   ],
   "source": [
    "df = pd.DataFrame({'user-message': messages, 'message-date': dates})\n",
    "\n",
    "df.head()"
   ]
  },
  {
   "cell_type": "code",
   "execution_count": 10,
   "id": "77f5c9ad",
   "metadata": {},
   "outputs": [
    {
     "data": {
      "text/html": [
       "<div>\n",
       "<style scoped>\n",
       "    .dataframe tbody tr th:only-of-type {\n",
       "        vertical-align: middle;\n",
       "    }\n",
       "\n",
       "    .dataframe tbody tr th {\n",
       "        vertical-align: top;\n",
       "    }\n",
       "\n",
       "    .dataframe thead th {\n",
       "        text-align: right;\n",
       "    }\n",
       "</style>\n",
       "<table border=\"1\" class=\"dataframe\">\n",
       "  <thead>\n",
       "    <tr style=\"text-align: right;\">\n",
       "      <th></th>\n",
       "      <th>user-message</th>\n",
       "      <th>date</th>\n",
       "    </tr>\n",
       "  </thead>\n",
       "  <tbody>\n",
       "    <tr>\n",
       "      <th>0</th>\n",
       "      <td>Vivek Baldha (LDIT): Search algorithm successf...</td>\n",
       "      <td>2023-05-16 11:54:00</td>\n",
       "    </tr>\n",
       "    <tr>\n",
       "      <th>1</th>\n",
       "      <td>Vivek Baldha (LDIT): &lt;Media omitted&gt;\\nWordCoun...</td>\n",
       "      <td>2023-05-16 17:35:00</td>\n",
       "    </tr>\n",
       "    <tr>\n",
       "      <th>2</th>\n",
       "      <td>Vivek Baldha (LDIT): &lt;Media omitted&gt;\\nMatrixMu...</td>\n",
       "      <td>2023-05-16 18:07:00</td>\n",
       "    </tr>\n",
       "    <tr>\n",
       "      <th>3</th>\n",
       "      <td>Vivek Baldha (LDIT): &lt;Media omitted&gt;\\nin1.txt\\n</td>\n",
       "      <td>2023-05-16 18:07:00</td>\n",
       "    </tr>\n",
       "    <tr>\n",
       "      <th>4</th>\n",
       "      <td>Vivek Baldha (LDIT): &lt;Media omitted&gt;\\nin2.txt\\n</td>\n",
       "      <td>2023-05-16 18:07:00</td>\n",
       "    </tr>\n",
       "  </tbody>\n",
       "</table>\n",
       "</div>"
      ],
      "text/plain": [
       "                                        user-message                date\n",
       "0  Vivek Baldha (LDIT): Search algorithm successf... 2023-05-16 11:54:00\n",
       "1  Vivek Baldha (LDIT): <Media omitted>\\nWordCoun... 2023-05-16 17:35:00\n",
       "2  Vivek Baldha (LDIT): <Media omitted>\\nMatrixMu... 2023-05-16 18:07:00\n",
       "3    Vivek Baldha (LDIT): <Media omitted>\\nin1.txt\\n 2023-05-16 18:07:00\n",
       "4    Vivek Baldha (LDIT): <Media omitted>\\nin2.txt\\n 2023-05-16 18:07:00"
      ]
     },
     "execution_count": 10,
     "metadata": {},
     "output_type": "execute_result"
    }
   ],
   "source": [
    "df['message-date'] = pd.to_datetime(df['message-date'], format='%d/%m/%y, %I:%M %p - ')\n",
    "\n",
    "df.rename(columns={'message-date': 'date'},inplace=True)\n",
    "df.head()"
   ]
  },
  {
   "cell_type": "code",
   "execution_count": 11,
   "id": "efe6f791",
   "metadata": {},
   "outputs": [
    {
     "data": {
      "text/plain": [
       "(21, 2)"
      ]
     },
     "execution_count": 11,
     "metadata": {},
     "output_type": "execute_result"
    }
   ],
   "source": [
    "df.shape"
   ]
  },
  {
   "cell_type": "code",
   "execution_count": 12,
   "id": "e9f62e16",
   "metadata": {},
   "outputs": [
    {
     "data": {
      "text/html": [
       "<div>\n",
       "<style scoped>\n",
       "    .dataframe tbody tr th:only-of-type {\n",
       "        vertical-align: middle;\n",
       "    }\n",
       "\n",
       "    .dataframe tbody tr th {\n",
       "        vertical-align: top;\n",
       "    }\n",
       "\n",
       "    .dataframe thead th {\n",
       "        text-align: right;\n",
       "    }\n",
       "</style>\n",
       "<table border=\"1\" class=\"dataframe\">\n",
       "  <thead>\n",
       "    <tr style=\"text-align: right;\">\n",
       "      <th></th>\n",
       "      <th>date</th>\n",
       "      <th>user</th>\n",
       "      <th>message</th>\n",
       "    </tr>\n",
       "  </thead>\n",
       "  <tbody>\n",
       "    <tr>\n",
       "      <th>0</th>\n",
       "      <td>2023-05-16 11:54:00</td>\n",
       "      <td>Vivek Baldha (LDIT)</td>\n",
       "      <td>Search algorithm successful\\n</td>\n",
       "    </tr>\n",
       "    <tr>\n",
       "      <th>1</th>\n",
       "      <td>2023-05-16 17:35:00</td>\n",
       "      <td>Vivek Baldha (LDIT)</td>\n",
       "      <td>&lt;Media omitted&gt;\\nWordCount.java\\n</td>\n",
       "    </tr>\n",
       "    <tr>\n",
       "      <th>2</th>\n",
       "      <td>2023-05-16 18:07:00</td>\n",
       "      <td>Vivek Baldha (LDIT)</td>\n",
       "      <td>&lt;Media omitted&gt;\\nMatrixMultiplyMapper.java\\n</td>\n",
       "    </tr>\n",
       "    <tr>\n",
       "      <th>3</th>\n",
       "      <td>2023-05-16 18:07:00</td>\n",
       "      <td>Vivek Baldha (LDIT)</td>\n",
       "      <td>&lt;Media omitted&gt;\\nin1.txt\\n</td>\n",
       "    </tr>\n",
       "    <tr>\n",
       "      <th>4</th>\n",
       "      <td>2023-05-16 18:07:00</td>\n",
       "      <td>Vivek Baldha (LDIT)</td>\n",
       "      <td>&lt;Media omitted&gt;\\nin2.txt\\n</td>\n",
       "    </tr>\n",
       "  </tbody>\n",
       "</table>\n",
       "</div>"
      ],
      "text/plain": [
       "                 date                 user  \\\n",
       "0 2023-05-16 11:54:00  Vivek Baldha (LDIT)   \n",
       "1 2023-05-16 17:35:00  Vivek Baldha (LDIT)   \n",
       "2 2023-05-16 18:07:00  Vivek Baldha (LDIT)   \n",
       "3 2023-05-16 18:07:00  Vivek Baldha (LDIT)   \n",
       "4 2023-05-16 18:07:00  Vivek Baldha (LDIT)   \n",
       "\n",
       "                                        message  \n",
       "0                 Search algorithm successful\\n  \n",
       "1             <Media omitted>\\nWordCount.java\\n  \n",
       "2  <Media omitted>\\nMatrixMultiplyMapper.java\\n  \n",
       "3                    <Media omitted>\\nin1.txt\\n  \n",
       "4                    <Media omitted>\\nin2.txt\\n  "
      ]
     },
     "execution_count": 12,
     "metadata": {},
     "output_type": "execute_result"
    }
   ],
   "source": [
    "users = []\n",
    "messages = []\n",
    "for message in df['user-message']:\n",
    "    entry = re.split('([\\w\\W]+?):\\s', message)\n",
    "    if entry[1:]:\n",
    "        users.append(entry[1])\n",
    "        messages.append(entry[2])\n",
    "    else:\n",
    "        users.append('gorup_notification')\n",
    "        messages.append(entry[0])\n",
    "    \n",
    "df['user'] = users\n",
    "df['message'] = messages\n",
    "df.drop(columns=['user-message'], inplace=True)\n",
    "\n",
    "df.head()"
   ]
  },
  {
   "cell_type": "code",
   "execution_count": 13,
   "id": "50aa4f20",
   "metadata": {},
   "outputs": [
    {
     "data": {
      "text/html": [
       "<div>\n",
       "<style scoped>\n",
       "    .dataframe tbody tr th:only-of-type {\n",
       "        vertical-align: middle;\n",
       "    }\n",
       "\n",
       "    .dataframe tbody tr th {\n",
       "        vertical-align: top;\n",
       "    }\n",
       "\n",
       "    .dataframe thead th {\n",
       "        text-align: right;\n",
       "    }\n",
       "</style>\n",
       "<table border=\"1\" class=\"dataframe\">\n",
       "  <thead>\n",
       "    <tr style=\"text-align: right;\">\n",
       "      <th></th>\n",
       "      <th>date</th>\n",
       "      <th>user</th>\n",
       "      <th>message</th>\n",
       "      <th>year</th>\n",
       "    </tr>\n",
       "  </thead>\n",
       "  <tbody>\n",
       "    <tr>\n",
       "      <th>0</th>\n",
       "      <td>2023-05-16 11:54:00</td>\n",
       "      <td>Vivek Baldha (LDIT)</td>\n",
       "      <td>Search algorithm successful\\n</td>\n",
       "      <td>2023</td>\n",
       "    </tr>\n",
       "    <tr>\n",
       "      <th>1</th>\n",
       "      <td>2023-05-16 17:35:00</td>\n",
       "      <td>Vivek Baldha (LDIT)</td>\n",
       "      <td>&lt;Media omitted&gt;\\nWordCount.java\\n</td>\n",
       "      <td>2023</td>\n",
       "    </tr>\n",
       "    <tr>\n",
       "      <th>2</th>\n",
       "      <td>2023-05-16 18:07:00</td>\n",
       "      <td>Vivek Baldha (LDIT)</td>\n",
       "      <td>&lt;Media omitted&gt;\\nMatrixMultiplyMapper.java\\n</td>\n",
       "      <td>2023</td>\n",
       "    </tr>\n",
       "    <tr>\n",
       "      <th>3</th>\n",
       "      <td>2023-05-16 18:07:00</td>\n",
       "      <td>Vivek Baldha (LDIT)</td>\n",
       "      <td>&lt;Media omitted&gt;\\nin1.txt\\n</td>\n",
       "      <td>2023</td>\n",
       "    </tr>\n",
       "    <tr>\n",
       "      <th>4</th>\n",
       "      <td>2023-05-16 18:07:00</td>\n",
       "      <td>Vivek Baldha (LDIT)</td>\n",
       "      <td>&lt;Media omitted&gt;\\nin2.txt\\n</td>\n",
       "      <td>2023</td>\n",
       "    </tr>\n",
       "  </tbody>\n",
       "</table>\n",
       "</div>"
      ],
      "text/plain": [
       "                 date                 user  \\\n",
       "0 2023-05-16 11:54:00  Vivek Baldha (LDIT)   \n",
       "1 2023-05-16 17:35:00  Vivek Baldha (LDIT)   \n",
       "2 2023-05-16 18:07:00  Vivek Baldha (LDIT)   \n",
       "3 2023-05-16 18:07:00  Vivek Baldha (LDIT)   \n",
       "4 2023-05-16 18:07:00  Vivek Baldha (LDIT)   \n",
       "\n",
       "                                        message  year  \n",
       "0                 Search algorithm successful\\n  2023  \n",
       "1             <Media omitted>\\nWordCount.java\\n  2023  \n",
       "2  <Media omitted>\\nMatrixMultiplyMapper.java\\n  2023  \n",
       "3                    <Media omitted>\\nin1.txt\\n  2023  \n",
       "4                    <Media omitted>\\nin2.txt\\n  2023  "
      ]
     },
     "execution_count": 13,
     "metadata": {},
     "output_type": "execute_result"
    }
   ],
   "source": [
    "df['year'] = df['date'].dt.year\n",
    "df.head()"
   ]
  },
  {
   "cell_type": "code",
   "execution_count": 14,
   "id": "04cef505",
   "metadata": {},
   "outputs": [],
   "source": [
    "df['month'] = df['date'].dt.month_name()"
   ]
  },
  {
   "cell_type": "code",
   "execution_count": 15,
   "id": "bc7ef3a0",
   "metadata": {},
   "outputs": [],
   "source": [
    "df['day'] = df['date'].dt.day"
   ]
  },
  {
   "cell_type": "code",
   "execution_count": 16,
   "id": "73f18483",
   "metadata": {},
   "outputs": [],
   "source": [
    "df['hour'] = df['date'].dt.hour"
   ]
  },
  {
   "cell_type": "code",
   "execution_count": 17,
   "id": "51316bae",
   "metadata": {},
   "outputs": [],
   "source": [
    "df['minute'] = df['date'].dt.minute"
   ]
  },
  {
   "cell_type": "code",
   "execution_count": 18,
   "id": "496a329a",
   "metadata": {},
   "outputs": [
    {
     "data": {
      "text/html": [
       "<div>\n",
       "<style scoped>\n",
       "    .dataframe tbody tr th:only-of-type {\n",
       "        vertical-align: middle;\n",
       "    }\n",
       "\n",
       "    .dataframe tbody tr th {\n",
       "        vertical-align: top;\n",
       "    }\n",
       "\n",
       "    .dataframe thead th {\n",
       "        text-align: right;\n",
       "    }\n",
       "</style>\n",
       "<table border=\"1\" class=\"dataframe\">\n",
       "  <thead>\n",
       "    <tr style=\"text-align: right;\">\n",
       "      <th></th>\n",
       "      <th>date</th>\n",
       "      <th>user</th>\n",
       "      <th>message</th>\n",
       "      <th>year</th>\n",
       "      <th>month</th>\n",
       "      <th>day</th>\n",
       "      <th>hour</th>\n",
       "      <th>minute</th>\n",
       "    </tr>\n",
       "  </thead>\n",
       "  <tbody>\n",
       "    <tr>\n",
       "      <th>0</th>\n",
       "      <td>2023-05-16 11:54:00</td>\n",
       "      <td>Vivek Baldha (LDIT)</td>\n",
       "      <td>Search algorithm successful\\n</td>\n",
       "      <td>2023</td>\n",
       "      <td>May</td>\n",
       "      <td>16</td>\n",
       "      <td>11</td>\n",
       "      <td>54</td>\n",
       "    </tr>\n",
       "    <tr>\n",
       "      <th>1</th>\n",
       "      <td>2023-05-16 17:35:00</td>\n",
       "      <td>Vivek Baldha (LDIT)</td>\n",
       "      <td>&lt;Media omitted&gt;\\nWordCount.java\\n</td>\n",
       "      <td>2023</td>\n",
       "      <td>May</td>\n",
       "      <td>16</td>\n",
       "      <td>17</td>\n",
       "      <td>35</td>\n",
       "    </tr>\n",
       "    <tr>\n",
       "      <th>2</th>\n",
       "      <td>2023-05-16 18:07:00</td>\n",
       "      <td>Vivek Baldha (LDIT)</td>\n",
       "      <td>&lt;Media omitted&gt;\\nMatrixMultiplyMapper.java\\n</td>\n",
       "      <td>2023</td>\n",
       "      <td>May</td>\n",
       "      <td>16</td>\n",
       "      <td>18</td>\n",
       "      <td>7</td>\n",
       "    </tr>\n",
       "    <tr>\n",
       "      <th>3</th>\n",
       "      <td>2023-05-16 18:07:00</td>\n",
       "      <td>Vivek Baldha (LDIT)</td>\n",
       "      <td>&lt;Media omitted&gt;\\nin1.txt\\n</td>\n",
       "      <td>2023</td>\n",
       "      <td>May</td>\n",
       "      <td>16</td>\n",
       "      <td>18</td>\n",
       "      <td>7</td>\n",
       "    </tr>\n",
       "    <tr>\n",
       "      <th>4</th>\n",
       "      <td>2023-05-16 18:07:00</td>\n",
       "      <td>Vivek Baldha (LDIT)</td>\n",
       "      <td>&lt;Media omitted&gt;\\nin2.txt\\n</td>\n",
       "      <td>2023</td>\n",
       "      <td>May</td>\n",
       "      <td>16</td>\n",
       "      <td>18</td>\n",
       "      <td>7</td>\n",
       "    </tr>\n",
       "  </tbody>\n",
       "</table>\n",
       "</div>"
      ],
      "text/plain": [
       "                 date                 user  \\\n",
       "0 2023-05-16 11:54:00  Vivek Baldha (LDIT)   \n",
       "1 2023-05-16 17:35:00  Vivek Baldha (LDIT)   \n",
       "2 2023-05-16 18:07:00  Vivek Baldha (LDIT)   \n",
       "3 2023-05-16 18:07:00  Vivek Baldha (LDIT)   \n",
       "4 2023-05-16 18:07:00  Vivek Baldha (LDIT)   \n",
       "\n",
       "                                        message  year month  day  hour  minute  \n",
       "0                 Search algorithm successful\\n  2023   May   16    11      54  \n",
       "1             <Media omitted>\\nWordCount.java\\n  2023   May   16    17      35  \n",
       "2  <Media omitted>\\nMatrixMultiplyMapper.java\\n  2023   May   16    18       7  \n",
       "3                    <Media omitted>\\nin1.txt\\n  2023   May   16    18       7  \n",
       "4                    <Media omitted>\\nin2.txt\\n  2023   May   16    18       7  "
      ]
     },
     "execution_count": 18,
     "metadata": {},
     "output_type": "execute_result"
    }
   ],
   "source": [
    "df.head()"
   ]
  },
  {
   "cell_type": "code",
   "execution_count": 19,
   "id": "d6d28b5e",
   "metadata": {},
   "outputs": [
    {
     "data": {
      "text/html": [
       "<div>\n",
       "<style scoped>\n",
       "    .dataframe tbody tr th:only-of-type {\n",
       "        vertical-align: middle;\n",
       "    }\n",
       "\n",
       "    .dataframe tbody tr th {\n",
       "        vertical-align: top;\n",
       "    }\n",
       "\n",
       "    .dataframe thead th {\n",
       "        text-align: right;\n",
       "    }\n",
       "</style>\n",
       "<table border=\"1\" class=\"dataframe\">\n",
       "  <thead>\n",
       "    <tr style=\"text-align: right;\">\n",
       "      <th></th>\n",
       "      <th>message</th>\n",
       "    </tr>\n",
       "  </thead>\n",
       "  <tbody>\n",
       "    <tr>\n",
       "      <th>0</th>\n",
       "      <td>Search algorithm successful\\n</td>\n",
       "    </tr>\n",
       "    <tr>\n",
       "      <th>1</th>\n",
       "      <td>javac -classpath $(hadoop classpath) MatrixMul...</td>\n",
       "    </tr>\n",
       "    <tr>\n",
       "      <th>2</th>\n",
       "      <td>Pig kairu\\n</td>\n",
       "    </tr>\n",
       "    <tr>\n",
       "      <th>3</th>\n",
       "      <td>Laptop de taru\\n</td>\n",
       "    </tr>\n",
       "    <tr>\n",
       "      <th>4</th>\n",
       "      <td>ashajshahs\\n</td>\n",
       "    </tr>\n",
       "    <tr>\n",
       "      <th>5</th>\n",
       "      <td>No thyu kai, mane to format change karvano opt...</td>\n",
       "    </tr>\n",
       "    <tr>\n",
       "      <th>6</th>\n",
       "      <td>M only WhatsApp ma no thay\\n</td>\n",
       "    </tr>\n",
       "    <tr>\n",
       "      <th>7</th>\n",
       "      <td>😂😂\\n</td>\n",
       "    </tr>\n",
       "    <tr>\n",
       "      <th>8</th>\n",
       "      <td>to rehne de bhai mission cancel\\n</td>\n",
       "    </tr>\n",
       "    <tr>\n",
       "      <th>9</th>\n",
       "      <td>Ruk jaa bhai\\n</td>\n",
       "    </tr>\n",
       "    <tr>\n",
       "      <th>10</th>\n",
       "      <td>I will manage\\n</td>\n",
       "    </tr>\n",
       "  </tbody>\n",
       "</table>\n",
       "</div>"
      ],
      "text/plain": [
       "                                              message\n",
       "0                       Search algorithm successful\\n\n",
       "1   javac -classpath $(hadoop classpath) MatrixMul...\n",
       "2                                         Pig kairu\\n\n",
       "3                                    Laptop de taru\\n\n",
       "4                                        ashajshahs\\n\n",
       "5   No thyu kai, mane to format change karvano opt...\n",
       "6                        M only WhatsApp ma no thay\\n\n",
       "7                                                😂😂\\n\n",
       "8                   to rehne de bhai mission cancel\\n\n",
       "9                                      Ruk jaa bhai\\n\n",
       "10                                    I will manage\\n"
      ]
     },
     "execution_count": 19,
     "metadata": {},
     "output_type": "execute_result"
    }
   ],
   "source": [
    "    temp = df[df['user'] != \"group_notification\"]\n",
    "    temp = [msg for msg in temp['message'] if not msg.startswith('<Media omitted>')]\n",
    "    temp = [msg for msg in temp if not msg.startswith('http')]\n",
    "    # check = \"etle\"\n",
    "    # temp = [msg for msg in temp['message'] if not msg.find(check)]\n",
    "    temp = pd.DataFrame(temp, columns=['message'])\n",
    "    temp"
   ]
  },
  {
   "cell_type": "code",
   "execution_count": 20,
   "id": "d6c182f3",
   "metadata": {},
   "outputs": [],
   "source": [
    "    f = open('stopwords_hinglish.txt', \"r\")\n",
    "    stop_words = f.read()"
   ]
  },
  {
   "cell_type": "code",
   "execution_count": 21,
   "id": "337b69ef",
   "metadata": {},
   "outputs": [],
   "source": [
    "    words = []\n",
    "\n",
    "    for msg in temp['message']:\n",
    "        for word in msg.lower().split():\n",
    "            if word not in stop_words:\n",
    "                words.append(word)"
   ]
  },
  {
   "cell_type": "code",
   "execution_count": 22,
   "id": "aba46a6f",
   "metadata": {},
   "outputs": [],
   "source": [
    "import pandas as pd #data manipulation\n",
    "from collections import Counter #counter"
   ]
  },
  {
   "cell_type": "code",
   "execution_count": 23,
   "id": "299ac0db",
   "metadata": {},
   "outputs": [
    {
     "data": {
      "text/html": [
       "<div>\n",
       "<style scoped>\n",
       "    .dataframe tbody tr th:only-of-type {\n",
       "        vertical-align: middle;\n",
       "    }\n",
       "\n",
       "    .dataframe tbody tr th {\n",
       "        vertical-align: top;\n",
       "    }\n",
       "\n",
       "    .dataframe thead th {\n",
       "        text-align: right;\n",
       "    }\n",
       "</style>\n",
       "<table border=\"1\" class=\"dataframe\">\n",
       "  <thead>\n",
       "    <tr style=\"text-align: right;\">\n",
       "      <th></th>\n",
       "      <th>word</th>\n",
       "      <th>frequency</th>\n",
       "    </tr>\n",
       "  </thead>\n",
       "  <tbody>\n",
       "    <tr>\n",
       "      <th>0</th>\n",
       "      <td>jar</td>\n",
       "      <td>2</td>\n",
       "    </tr>\n",
       "    <tr>\n",
       "      <th>1</th>\n",
       "      <td>search</td>\n",
       "      <td>1</td>\n",
       "    </tr>\n",
       "    <tr>\n",
       "      <th>2</th>\n",
       "      <td>algorithm</td>\n",
       "      <td>1</td>\n",
       "    </tr>\n",
       "    <tr>\n",
       "      <th>3</th>\n",
       "      <td>successful</td>\n",
       "      <td>1</td>\n",
       "    </tr>\n",
       "    <tr>\n",
       "      <th>4</th>\n",
       "      <td>javac</td>\n",
       "      <td>1</td>\n",
       "    </tr>\n",
       "    <tr>\n",
       "      <th>5</th>\n",
       "      <td>-classpath</td>\n",
       "      <td>1</td>\n",
       "    </tr>\n",
       "    <tr>\n",
       "      <th>6</th>\n",
       "      <td>$(hadoop</td>\n",
       "      <td>1</td>\n",
       "    </tr>\n",
       "    <tr>\n",
       "      <th>7</th>\n",
       "      <td>classpath)</td>\n",
       "      <td>1</td>\n",
       "    </tr>\n",
       "    <tr>\n",
       "      <th>8</th>\n",
       "      <td>matrixmultiplymapper.java</td>\n",
       "      <td>1</td>\n",
       "    </tr>\n",
       "    <tr>\n",
       "      <th>9</th>\n",
       "      <td>matrixmultiplyreducer.java</td>\n",
       "      <td>1</td>\n",
       "    </tr>\n",
       "    <tr>\n",
       "      <th>10</th>\n",
       "      <td>matrixmultiply.java</td>\n",
       "      <td>1</td>\n",
       "    </tr>\n",
       "    <tr>\n",
       "      <th>11</th>\n",
       "      <td>cf</td>\n",
       "      <td>1</td>\n",
       "    </tr>\n",
       "    <tr>\n",
       "      <th>12</th>\n",
       "      <td>matrixmultiply.jar</td>\n",
       "      <td>1</td>\n",
       "    </tr>\n",
       "    <tr>\n",
       "      <th>13</th>\n",
       "      <td>matrixmultiply*.class</td>\n",
       "      <td>1</td>\n",
       "    </tr>\n",
       "    <tr>\n",
       "      <th>14</th>\n",
       "      <td>hadoop</td>\n",
       "      <td>1</td>\n",
       "    </tr>\n",
       "    <tr>\n",
       "      <th>15</th>\n",
       "      <td>&lt;jar-file&gt;</td>\n",
       "      <td>1</td>\n",
       "    </tr>\n",
       "    <tr>\n",
       "      <th>16</th>\n",
       "      <td>&lt;main-class&gt;</td>\n",
       "      <td>1</td>\n",
       "    </tr>\n",
       "    <tr>\n",
       "      <th>17</th>\n",
       "      <td>&lt;input-path&gt;</td>\n",
       "      <td>1</td>\n",
       "    </tr>\n",
       "    <tr>\n",
       "      <th>18</th>\n",
       "      <td>&lt;output-path&gt;</td>\n",
       "      <td>1</td>\n",
       "    </tr>\n",
       "    <tr>\n",
       "      <th>19</th>\n",
       "      <td>pig</td>\n",
       "      <td>1</td>\n",
       "    </tr>\n",
       "  </tbody>\n",
       "</table>\n",
       "</div>"
      ],
      "text/plain": [
       "                          word  frequency\n",
       "0                          jar          2\n",
       "1                       search          1\n",
       "2                    algorithm          1\n",
       "3                   successful          1\n",
       "4                        javac          1\n",
       "5                   -classpath          1\n",
       "6                     $(hadoop          1\n",
       "7                   classpath)          1\n",
       "8    matrixmultiplymapper.java          1\n",
       "9   matrixmultiplyreducer.java          1\n",
       "10         matrixmultiply.java          1\n",
       "11                          cf          1\n",
       "12          matrixmultiply.jar          1\n",
       "13       matrixmultiply*.class          1\n",
       "14                      hadoop          1\n",
       "15                  <jar-file>          1\n",
       "16                <main-class>          1\n",
       "17                <input-path>          1\n",
       "18               <output-path>          1\n",
       "19                         pig          1"
      ]
     },
     "execution_count": 23,
     "metadata": {},
     "output_type": "execute_result"
    }
   ],
   "source": [
    "most_common_df =pd.DataFrame(Counter(words).most_common(20), columns=['word', 'frequency'])\n",
    "most_common_df"
   ]
  },
  {
   "cell_type": "code",
   "execution_count": 24,
   "id": "a49a0557",
   "metadata": {},
   "outputs": [
    {
     "name": "stdout",
     "output_type": "stream",
     "text": [
      "[]\n",
      "Search algorithm successful\n",
      "\n",
      "[]\n",
      "<Media omitted>\n",
      "WordCount.java\n",
      "\n",
      "[]\n",
      "<Media omitted>\n",
      "MatrixMultiplyMapper.java\n",
      "\n",
      "[]\n",
      "<Media omitted>\n",
      "in1.txt\n",
      "\n",
      "[]\n",
      "<Media omitted>\n",
      "in2.txt\n",
      "\n",
      "[]\n",
      "<Media omitted>\n",
      "MatrixMultiplyReducer.java\n",
      "\n",
      "[]\n",
      "<Media omitted>\n",
      "MatrixMultiply.java\n",
      "\n",
      "[]\n",
      "javac -classpath $(hadoop classpath) MatrixMultiplyMapper.java MatrixMultiplyReducer.java MatrixMultiply.java\n",
      "\n",
      "jar cf MatrixMultiply.jar MatrixMultiply*.class\n",
      "\n",
      "hadoop jar <jar-file> <main-class> <input-path> <output-path>\n",
      "\n",
      "[]\n",
      "<Media omitted>\n",
      "in.txt\n",
      "\n",
      "[]\n",
      "<Media omitted>\n",
      "Sort.java\n",
      "\n",
      "[]\n",
      "<Media omitted>\n",
      "indexing.zip\n",
      "\n",
      "[]\n",
      "Pig kairu\n",
      "\n",
      "[]\n",
      "Laptop de taru\n",
      "\n",
      "[]\n",
      "ashajshahs\n",
      "\n",
      "[]\n",
      "https://www.tutorialspoint.com/apache_pig/pig_latin_basics.htm\n",
      "\n",
      "[]\n",
      "No thyu kai, mane to format change karvano option j nai malto\n",
      "\n",
      "[]\n",
      "M only WhatsApp ma no thay\n",
      "\n",
      "[{'match_start': 0, 'match_end': 1, 'emoji': '😂'}, {'match_start': 1, 'match_end': 2, 'emoji': '😂'}]\n",
      "😂😂\n",
      "\n",
      "[]\n",
      "to rehne de bhai mission cancel\n",
      "\n",
      "[]\n",
      "Ruk jaa bhai\n",
      "\n",
      "[]\n",
      "I will manage\n",
      "\n"
     ]
    }
   ],
   "source": [
    "import emoji #emoji    \n",
    "emojis = []\n",
    "for message in df['message']:\n",
    "    print(emoji.emoji_list(message))\n",
    "    print(message)\n",
    "    # emojis.extend([c for c in message if c in emoji.emoji_list(message)])\n",
    "# emojis"
   ]
  },
  {
   "cell_type": "code",
   "execution_count": 25,
   "id": "04381663",
   "metadata": {},
   "outputs": [
    {
     "data": {
      "text/html": [
       "<div>\n",
       "<style scoped>\n",
       "    .dataframe tbody tr th:only-of-type {\n",
       "        vertical-align: middle;\n",
       "    }\n",
       "\n",
       "    .dataframe tbody tr th {\n",
       "        vertical-align: top;\n",
       "    }\n",
       "\n",
       "    .dataframe thead th {\n",
       "        text-align: right;\n",
       "    }\n",
       "</style>\n",
       "<table border=\"1\" class=\"dataframe\">\n",
       "  <thead>\n",
       "    <tr style=\"text-align: right;\">\n",
       "      <th></th>\n",
       "      <th>0</th>\n",
       "      <th>1</th>\n",
       "    </tr>\n",
       "  </thead>\n",
       "  <tbody>\n",
       "    <tr>\n",
       "      <th>0</th>\n",
       "      <td>😂</td>\n",
       "      <td>2</td>\n",
       "    </tr>\n",
       "  </tbody>\n",
       "</table>\n",
       "</div>"
      ],
      "text/plain": [
       "   0  1\n",
       "0  😂  2"
      ]
     },
     "execution_count": 25,
     "metadata": {},
     "output_type": "execute_result"
    }
   ],
   "source": [
    "from collections import Counter\n",
    "emojis = []\n",
    "for message in df['message']:\n",
    "    # ([c for c in message if c in emoji.emoji_list(message)])\n",
    "    # emojis.append(emoji.emoji_list(message))\n",
    "    if (emoji.emoji_list(message)):\n",
    "        for ans in emoji.emoji_list(message):\n",
    "            emojis.append(ans)\n",
    "       \n",
    "# print(len(emojis))\n",
    "# print(emojis[0][\"emoji\"])\n",
    "emoji_count = []\n",
    "for e in emojis:\n",
    "    emoji_count.extend(emojis[0][\"emoji\"])\n",
    "\n",
    "# emoji_df = pd.DataFrame(Counter(emojis).most_common(len(Counter(emojis))))\n",
    "emoji_df = pd.DataFrame(Counter(emoji_count).most_common(len(Counter(emoji_count))))\n",
    "emoji_df\n"
   ]
  },
  {
   "cell_type": "code",
   "execution_count": 26,
   "metadata": {},
   "outputs": [],
   "source": [
    "df['month_num'] = df['date'].dt.month\n",
    "timeline = df.groupby(['year','month_num','month']).count()['message'].reset_index() \n",
    "# Adding reset_index() in end gives a form of dataframe"
   ]
  },
  {
   "cell_type": "code",
   "execution_count": 28,
   "id": "1e307114",
   "metadata": {},
   "outputs": [
    {
     "data": {
      "text/plain": [
       "['May-2023']"
      ]
     },
     "execution_count": 28,
     "metadata": {},
     "output_type": "execute_result"
    }
   ],
   "source": [
    "time = []\n",
    "for i in range(timeline.shape[0]):\n",
    "    time.append(timeline['month'][i] + '-' + str(timeline['year'][i]))\n",
    "time"
   ]
  },
  {
   "cell_type": "code",
   "execution_count": 30,
   "id": "0dcfb52b",
   "metadata": {},
   "outputs": [
    {
     "data": {
      "text/html": [
       "<div>\n",
       "<style scoped>\n",
       "    .dataframe tbody tr th:only-of-type {\n",
       "        vertical-align: middle;\n",
       "    }\n",
       "\n",
       "    .dataframe tbody tr th {\n",
       "        vertical-align: top;\n",
       "    }\n",
       "\n",
       "    .dataframe thead th {\n",
       "        text-align: right;\n",
       "    }\n",
       "</style>\n",
       "<table border=\"1\" class=\"dataframe\">\n",
       "  <thead>\n",
       "    <tr style=\"text-align: right;\">\n",
       "      <th></th>\n",
       "      <th>year</th>\n",
       "      <th>month_num</th>\n",
       "      <th>month</th>\n",
       "      <th>message</th>\n",
       "      <th>time</th>\n",
       "    </tr>\n",
       "  </thead>\n",
       "  <tbody>\n",
       "    <tr>\n",
       "      <th>0</th>\n",
       "      <td>2023</td>\n",
       "      <td>5</td>\n",
       "      <td>May</td>\n",
       "      <td>21</td>\n",
       "      <td>May-2023</td>\n",
       "    </tr>\n",
       "  </tbody>\n",
       "</table>\n",
       "</div>"
      ],
      "text/plain": [
       "   year  month_num month  message      time\n",
       "0  2023          5   May       21  May-2023"
      ]
     },
     "execution_count": 30,
     "metadata": {},
     "output_type": "execute_result"
    }
   ],
   "source": [
    "timeline['time'] = time\n",
    "timeline"
   ]
  },
  {
   "cell_type": "code",
   "execution_count": 32,
   "id": "f8a539b7",
   "metadata": {},
   "outputs": [
    {
     "data": {
      "image/png": "[encoded data removed]",
      "text/plain": [
       "<Figure size 640x480 with 1 Axes>"
      ]
     },
     "metadata": {},
     "output_type": "display_data"
    }
   ],
   "source": [
    "import matplotlib.pyplot as plt\n",
    "plt.plot(timeline['time'],timeline['message'])\n",
    "plt.xticks(rotation=90)\n",
    "plt.show()"
   ]
  },
  {
   "cell_type": "code",
   "execution_count": 33,
   "id": "ea499b29",
   "metadata": {},
   "outputs": [
    {
     "data": {
      "text/plain": [
       "Tuesday      11\n",
       "Wednesday    10\n",
       "Name: day_name, dtype: int64"
      ]
     },
     "execution_count": 33,
     "metadata": {},
     "output_type": "execute_result"
    }
   ],
   "source": [
    "df['day_name'] = df['date'].dt.day_name()\n",
    "df['day_name'].value_counts()"
   ]
  },
  {
   "cell_type": "code",
   "execution_count": null,
   "id": "2d2da772",
   "metadata": {},
   "outputs": [],
   "source": []
  }
 ],
 "metadata": {
  "kernelspec": {
   "display_name": "Python 3 (ipykernel)",
   "language": "python",
   "name": "python3"
  },
  "language_info": {
   "codemirror_mode": {
    "name": "ipython",
    "version": 3
   },
   "file_extension": ".py",
   "mimetype": "text/x-python",
   "name": "python",
   "nbconvert_exporter": "python",
   "pygments_lexer": "ipython3",
   "version": "3.10.6"
  }
 },
 "nbformat": 4,
 "nbformat_minor": 5
}
